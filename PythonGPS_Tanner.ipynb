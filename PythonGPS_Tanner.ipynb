{
  "nbformat": 4,
  "nbformat_minor": 0,
  "metadata": {
    "colab": {
      "name": "PythonGPS_Tanner",
      "provenance": [],
      "authorship_tag": "ABX9TyPKQJqDi7xhgd148lkcHgAj",
      "include_colab_link": true
    },
    "kernelspec": {
      "name": "python3",
      "display_name": "Python 3"
    }
  },
  "cells": [
    {
      "cell_type": "markdown",
      "metadata": {
        "id": "view-in-github",
        "colab_type": "text"
      },
      "source": [
        "<a href=\"https://colab.research.google.com/github/jonahboe/REX/blob/master/PythonGPS_Tanner.ipynb\" target=\"_parent\"><img src=\"https://colab.research.google.com/assets/colab-badge.svg\" alt=\"Open In Colab\"/></a>"
      ]
    },
    {
      "cell_type": "code",
      "metadata": {
        "id": "fwaU7tTOg6A4",
        "colab_type": "code",
        "colab": {
          "base_uri": "https://localhost:8080/",
          "height": 129
        },
        "outputId": "dd9e6654-6362-43f6-85cc-2528491294a1"
      },
      "source": [
        "#This website has a gps tracking toturoila for Rasberry Pi\n",
        "#https://www.instructables.com/id/Real-Time-GPS-Tracking/\n",
        "\n",
        "#Libraies to install on python\n",
        "#  sudo apt-get install python-pip\n",
        "#  sudo pip install pynmea2\n",
        "#  sudo pip install ISStreamer \n",
        "\n",
        "#Python command\n",
        "# nano GPStracker.py \n",
        "\n",
        "\n",
        "#! /usr/bin/python<br>from gps import *\n",
        "from time import *\n",
        "import threading\n",
        "import datetime\n",
        "from ISStreamer.Streamer import Streamer\n",
        "  \n",
        "gpsd = None #Setup global variable \n",
        "  \n",
        "#Setup the Initial State stream, enter your access key below\n",
        "streamer = Streamer(bucket_name=\"GPS_Tracker\", bucket_key=\"GPS_TRACKER\", access_key=\"ENTER YOUR ACCESS KEY\")\n",
        "  \n",
        "class GPSDcollector(threading.Thread):\n",
        "    def __init__(self, threadID):\n",
        "        threading.Thread.__init__(self)\n",
        "        self.threadID = threadID\n",
        "        global gpsd #bring it in scope\n",
        "        gpsd = gps(mode=WATCH_ENABLE) #Start GPSD\n",
        "        self.running = True #Start running this thread\n",
        "    def run(self):\n",
        "        global gpsd\n",
        "        while gpsdThread.running:\n",
        "            gpsd.next() \n",
        "  \n",
        "if __name__ == '__main__':\n",
        "    gpsdThread = GPSDcollector(1) # create a thread to collect data\n",
        "    try:\n",
        "        gpsdThread.start() # start it up\n",
        "        while True:\n",
        "            print 'GPS ', gpsd.utc,'--> CPU time->', datetime.datetime.now().time(),\n",
        "            if (gpsd.fix.longitude<>0) and (gpsd.fix.longitude<>'nan'):\n",
        "                streamer.log(\"Location\", \"{lat},{lon}\".format(lat=gpsd.fix.latitude,lon=gpsd.fix.longitude))\n",
        "                streamer.log(\"speed\",gpsd.fix.speed)\n",
        "            print '  lat    ' , gpsd.fix.latitude,\n",
        "            print '  lon   ' , gpsd.fix.longitude,\n",
        "            print '  speed ', gpsd.fix.speed\n",
        "  \n",
        "            sleep(5)\n",
        "    except (KeyboardInterrupt, SystemExit): #when you press ctrl+c\n",
        "        print \"\\nKilling Thread...\"\n",
        "        gpsdThread.running = False\n",
        "        gpsdThread.join() # wait for the thread to finish what it's doing\n",
        "    print \"Done.\\nExiting.\""
      ],
      "execution_count": 3,
      "outputs": [
        {
          "output_type": "error",
          "ename": "SyntaxError",
          "evalue": "ignored",
          "traceback": [
            "\u001b[0;36m  File \u001b[0;32m\"<ipython-input-3-21fe3ff84530>\"\u001b[0;36m, line \u001b[0;32m3\u001b[0m\n\u001b[0;31m    nano GPStracker.py\u001b[0m\n\u001b[0m                  ^\u001b[0m\n\u001b[0;31mSyntaxError\u001b[0m\u001b[0;31m:\u001b[0m invalid syntax\n"
          ]
        }
      ]
    },
    {
      "cell_type": "code",
      "metadata": {
        "id": "d5Thdudjhewr",
        "colab_type": "code",
        "colab": {}
      },
      "source": [
        ""
      ],
      "execution_count": null,
      "outputs": []
    }
  ]
}